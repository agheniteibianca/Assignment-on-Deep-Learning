{
 "cells": [
  {
   "cell_type": "markdown",
   "id": "656aebd3",
   "metadata": {},
   "source": [
    "# Comparison!"
   ]
  },
  {
   "cell_type": "code",
   "execution_count": 59,
   "id": "a0a5b4d3",
   "metadata": {},
   "outputs": [],
   "source": [
    "import pathlib\n",
    "import tensorflow as tf\n",
    "import matplotlib.pyplot as plt #pip install matplotlib\n",
    "import numpy as np # pip install numpy\n",
    "\n",
    "from tensorflow.keras.models import Sequential\n",
    "from tensorflow.keras.layers import Dense, Dropout, Activation,Flatten, Conv2D, MaxPooling2D, MaxPool2D,GlobalAveragePooling2D\n",
    "\n",
    "from tensorflow.keras.preprocessing.image import ImageDataGenerator\n",
    "from keras.preprocessing import image\n",
    "from tensorflow.keras.applications import vgg16\n",
    "from keras.models import model_from_json\n",
    "import sklearn.metrics as metrics"
   ]
  },
  {
   "cell_type": "code",
   "execution_count": 60,
   "id": "40fac286",
   "metadata": {},
   "outputs": [
    {
     "name": "stdout",
     "output_type": "stream",
     "text": [
      "Found 522 images belonging to 12 classes.\n"
     ]
    }
   ],
   "source": [
    "test_dir = pathlib.Path(r\"C:\\Users\\aghen\\OneDrive\\Desktop/flavia_for_cnn/test\")\n",
    "\n",
    "image_generator = ImageDataGenerator(rescale=1./255)\n",
    "test_generator = image_generator.flow_from_directory(test_dir,\n",
    "                                                     target_size=(150,150),\n",
    "                                                     batch_size=8,\n",
    "                                                     class_mode='categorical',\n",
    "                                                     shuffle = False)"
   ]
  },
  {
   "cell_type": "markdown",
   "id": "1007bc0e",
   "metadata": {},
   "source": [
    "# Load models"
   ]
  },
  {
   "cell_type": "code",
   "execution_count": 61,
   "id": "1f19fe0c",
   "metadata": {},
   "outputs": [
    {
     "name": "stdout",
     "output_type": "stream",
     "text": [
      "Loaded model1 from disk\n",
      "66/66 [==============================] - 6s 86ms/step - loss: 28.4238 - accuracy: 0.4838\n",
      "0.501915693283081\n",
      "28.95063591003418\n"
     ]
    }
   ],
   "source": [
    "# Model 1\n",
    "\n",
    "json_file = open('model1.json', 'r')\n",
    "loaded_model_json = json_file.read()\n",
    "json_file.close()\n",
    "loaded_model1 = model_from_json(loaded_model_json)\n",
    "# load weights into new model\n",
    "loaded_model1.load_weights(\"weights1.h5\")\n",
    "print(\"Loaded model1 from disk\")\n",
    "\n",
    "# evaluate loaded model on test data\n",
    "loaded_model1.compile(optimizer='adam',\n",
    "                  loss='categorical_crossentropy',\n",
    "                  metrics=['accuracy'])\n",
    "\n",
    "loss1, accuracy1 = loaded_model1.evaluate(test_generator, steps=len(test_generator))\n",
    "\n",
    "\n",
    "print(accuracy1)\n",
    "print(loss1)"
   ]
  },
  {
   "cell_type": "code",
   "execution_count": 62,
   "id": "12e9ea50",
   "metadata": {},
   "outputs": [
    {
     "name": "stdout",
     "output_type": "stream",
     "text": [
      "Loaded model2 from disk\n",
      "66/66 [==============================] - 8s 116ms/step - loss: 0.2105 - accuracy: 0.9629\n",
      "0.9521072506904602\n",
      "0.20453771948814392\n"
     ]
    }
   ],
   "source": [
    "# Model 2\n",
    "\n",
    "json_file = open('model2.json', 'r')\n",
    "loaded_model_json = json_file.read()\n",
    "json_file.close()\n",
    "loaded_model2 = model_from_json(loaded_model_json)\n",
    "# load weights into new model\n",
    "loaded_model2.load_weights(\"weights2.h5\")\n",
    "print(\"Loaded model2 from disk\")\n",
    "\n",
    "# evaluate loaded model on test data\n",
    "loaded_model2.compile(optimizer='adam',\n",
    "                  loss='categorical_crossentropy',\n",
    "                  metrics=['accuracy'])\n",
    "\n",
    "loss2, accuracy2 = loaded_model2.evaluate(test_generator, steps=len(test_generator))\n",
    "\n",
    "print(accuracy2)\n",
    "print(loss2)"
   ]
  },
  {
   "cell_type": "code",
   "execution_count": 63,
   "id": "197d3070",
   "metadata": {},
   "outputs": [
    {
     "name": "stdout",
     "output_type": "stream",
     "text": [
      "Loaded model3 from disk\n",
      "66/66 [==============================] - 41s 619ms/step - loss: 2.4824 - accuracy: 0.1020\n",
      "0.13984674215316772\n",
      "2.482628345489502\n"
     ]
    }
   ],
   "source": [
    "# Model 3\n",
    "\n",
    "json_file = open('model3.json', 'r')\n",
    "loaded_model_json = json_file.read()\n",
    "json_file.close()\n",
    "loaded_model3 = model_from_json(loaded_model_json)\n",
    "# load weights into new model\n",
    "loaded_model3.load_weights(\"weights3.h5\")\n",
    "print(\"Loaded model3 from disk\")\n",
    "\n",
    "# evaluate loaded model on test data\n",
    "loaded_model3.compile(optimizer='adam',\n",
    "                  loss='categorical_crossentropy',\n",
    "                  metrics=['accuracy'])\n",
    "\n",
    "loss3, accuracy3 = loaded_model3.evaluate(test_generator, steps=len(test_generator))\n",
    "\n",
    "print(accuracy3)\n",
    "print(loss3)"
   ]
  },
  {
   "cell_type": "code",
   "execution_count": 64,
   "id": "2469c021",
   "metadata": {},
   "outputs": [
    {
     "name": "stdout",
     "output_type": "stream",
     "text": [
      "Loaded model4 from disk\n",
      "66/66 [==============================] - 8s 103ms/step - loss: 2.3384 - accuracy: 0.1942\n",
      "0.2068965584039688\n",
      "2.2131903171539307\n"
     ]
    }
   ],
   "source": [
    "# Model 4\n",
    "\n",
    "json_file = open('model4.json', 'r')\n",
    "loaded_model_json = json_file.read()\n",
    "json_file.close()\n",
    "loaded_model4 = model_from_json(loaded_model_json)\n",
    "# load weights into new model\n",
    "loaded_model4.load_weights(\"weights4.h5\")\n",
    "print(\"Loaded model4 from disk\")\n",
    "\n",
    "# evaluate loaded model on test data\n",
    "loaded_model4.compile(optimizer='adam',\n",
    "                  loss='categorical_crossentropy',\n",
    "                  metrics=['accuracy'])\n",
    "\n",
    "loss4, accuracy4 = loaded_model4.evaluate(test_generator, steps=len(test_generator))\n",
    "\n",
    "print(accuracy4)\n",
    "print(loss4)"
   ]
  },
  {
   "cell_type": "code",
   "execution_count": 65,
   "id": "7145cbc2",
   "metadata": {},
   "outputs": [
    {
     "name": "stdout",
     "output_type": "stream",
     "text": [
      "Loaded model5 from disk\n",
      "66/66 [==============================] - 22s 313ms/step - loss: 0.0248 - accuracy: 0.9953\n",
      "0.9942528605461121\n",
      "0.028338734060525894\n"
     ]
    }
   ],
   "source": [
    "# Model 5\n",
    "\n",
    "json_file = open('model5.json', 'r')\n",
    "loaded_model_json = json_file.read()\n",
    "json_file.close()\n",
    "loaded_model5 = model_from_json(loaded_model_json)\n",
    "# load weights into new model\n",
    "loaded_model5.load_weights(\"weights5.h5\")\n",
    "print(\"Loaded model5 from disk\")\n",
    "\n",
    "# evaluate loaded model on test data\n",
    "loaded_model5.compile(optimizer='adam',\n",
    "                  loss='categorical_crossentropy',\n",
    "                  metrics=['accuracy'])\n",
    "\n",
    "loss5, accuracy5 = loaded_model5.evaluate(test_generator, steps=len(test_generator))\n",
    "\n",
    "print(accuracy5)\n",
    "print(loss5)"
   ]
  },
  {
   "cell_type": "markdown",
   "id": "05fef48a",
   "metadata": {},
   "source": [
    "# See them in action!"
   ]
  },
  {
   "cell_type": "code",
   "execution_count": 66,
   "id": "1fa1e42c",
   "metadata": {},
   "outputs": [
    {
     "name": "stdout",
     "output_type": "stream",
     "text": [
      "Found 522 images belonging to 12 classes.\n",
      "predicting with model1\n"
     ]
    },
    {
     "name": "stderr",
     "output_type": "stream",
     "text": [
      "C:\\Users\\aghen\\anaconda3\\envs\\bilu\\lib\\site-packages\\keras\\engine\\training.py:1976: UserWarning: `Model.predict_generator` is deprecated and will be removed in a future version. Please use `Model.predict`, which supports generators.\n",
      "  warnings.warn('`Model.predict_generator` is deprecated and '\n"
     ]
    },
    {
     "name": "stdout",
     "output_type": "stream",
     "text": [
      "predicting with model2\n"
     ]
    },
    {
     "name": "stderr",
     "output_type": "stream",
     "text": [
      "C:\\Users\\aghen\\anaconda3\\envs\\bilu\\lib\\site-packages\\keras\\engine\\training.py:1976: UserWarning: `Model.predict_generator` is deprecated and will be removed in a future version. Please use `Model.predict`, which supports generators.\n",
      "  warnings.warn('`Model.predict_generator` is deprecated and '\n"
     ]
    },
    {
     "name": "stdout",
     "output_type": "stream",
     "text": [
      "0.7553667241906469\n",
      "predicting with model3\n"
     ]
    },
    {
     "name": "stderr",
     "output_type": "stream",
     "text": [
      "C:\\Users\\aghen\\anaconda3\\envs\\bilu\\lib\\site-packages\\keras\\engine\\training.py:1976: UserWarning: `Model.predict_generator` is deprecated and will be removed in a future version. Please use `Model.predict`, which supports generators.\n",
      "  warnings.warn('`Model.predict_generator` is deprecated and '\n"
     ]
    },
    {
     "name": "stdout",
     "output_type": "stream",
     "text": [
      "0.10378151260504202\n",
      "predicting with model4\n"
     ]
    },
    {
     "name": "stderr",
     "output_type": "stream",
     "text": [
      "C:\\Users\\aghen\\anaconda3\\envs\\bilu\\lib\\site-packages\\keras\\engine\\training.py:1976: UserWarning: `Model.predict_generator` is deprecated and will be removed in a future version. Please use `Model.predict`, which supports generators.\n",
      "  warnings.warn('`Model.predict_generator` is deprecated and '\n"
     ]
    },
    {
     "name": "stdout",
     "output_type": "stream",
     "text": [
      "0.16126619230067504\n",
      "predicting with model5\n"
     ]
    },
    {
     "name": "stderr",
     "output_type": "stream",
     "text": [
      "C:\\Users\\aghen\\anaconda3\\envs\\bilu\\lib\\site-packages\\keras\\engine\\training.py:1976: UserWarning: `Model.predict_generator` is deprecated and will be removed in a future version. Please use `Model.predict`, which supports generators.\n",
      "  warnings.warn('`Model.predict_generator` is deprecated and '\n"
     ]
    },
    {
     "name": "stdout",
     "output_type": "stream",
     "text": [
      "0.36733764332702395\n"
     ]
    }
   ],
   "source": [
    "test_dir = pathlib.Path(r\"C:\\Users\\aghen\\OneDrive\\Desktop//flavia_for_cnn/test\")\n",
    "\n",
    "image_generator = ImageDataGenerator(rescale=1./255)\n",
    "\n",
    "test_generator = image_generator.flow_from_directory(test_dir,\n",
    "                                                     target_size=(150,150),\n",
    "                                                     batch_size=8,\n",
    "                                                     class_mode='categorical',\n",
    "                                                     shuffle = False)\n",
    "labels = [1, 10, 11, 12, 2, 3, 4, 5, 6, 7, 8, 9]\n",
    "true_classes = test_generator.classes\n",
    "\n",
    "print(\"predicting with model1\")\n",
    "predictions = loaded_model1.predict_generator(test_generator, steps=66)\n",
    "predicted_classes = np.argmax(predictions, axis=1)\n",
    "_, _, f1_score1, _ = metrics.precision_recall_fscore_support(true_classes, predicted_classes,average='macro', labels=labels, zero_division = True)\n",
    "\n",
    "print(\"predicting with model2\")\n",
    "predictions = loaded_model2.predict_generator(test_generator, steps=66)\n",
    "predicted_classes = np.argmax(predictions, axis=1)\n",
    "_, _, f1_score2, _ = metrics.precision_recall_fscore_support(true_classes, predicted_classes,average='macro', labels=labels, zero_division = True)\n",
    "print(f1_score2)\n",
    "\n",
    "print(\"predicting with model3\")\n",
    "predictions = loaded_model3.predict_generator(test_generator, steps=66)\n",
    "predicted_classes = np.argmax(predictions, axis=1)\n",
    "_, _, f1_score3, _ = metrics.precision_recall_fscore_support(true_classes, predicted_classes,average='macro', labels=labels, zero_division = True)\n",
    "print(f1_score3)\n",
    "\n",
    "print(\"predicting with model4\")\n",
    "predictions = loaded_model4.predict_generator(test_generator, steps=66)\n",
    "predicted_classes = np.argmax(predictions, axis=1)\n",
    "_, _, f1_score4, _ = metrics.precision_recall_fscore_support(true_classes, predicted_classes,average='macro', labels=labels, zero_division = True)\n",
    "print(f1_score4)\n",
    "\n",
    "print(\"predicting with model5\")\n",
    "predictions = loaded_model5.predict_generator(test_generator, steps=66)\n",
    "predicted_classes = np.argmax(predictions, axis=1)\n",
    "_, _, f1_score5, _ = metrics.precision_recall_fscore_support(true_classes, predicted_classes,average='macro', labels=labels, zero_division = True)\n",
    "print(f1_score5)\n"
   ]
  },
  {
   "cell_type": "markdown",
   "id": "ea0e988f",
   "metadata": {},
   "source": [
    "# Accuracy"
   ]
  },
  {
   "cell_type": "code",
   "execution_count": 67,
   "id": "c512d482",
   "metadata": {},
   "outputs": [
    {
     "data": {
      "text/plain": [
       "<BarContainer object of 5 artists>"
      ]
     },
     "execution_count": 67,
     "metadata": {},
     "output_type": "execute_result"
    },
    {
     "data": {
      "image/png": "[encoded data removed]",
      "text/plain": [
       "<Figure size 432x288 with 1 Axes>"
      ]
     },
     "metadata": {
      "needs_background": "light"
     },
     "output_type": "display_data"
    }
   ],
   "source": [
    "fig = plt.figure(1)\n",
    "ax = fig.add_axes([0,0,1,1])\n",
    "model = ['M1', 'M2', 'M3', 'M4', 'M5']\n",
    "accuracy = [accuracy1, accuracy2, accuracy4, accuracy4, accuracy5]\n",
    "ax.bar(model,accuracy)"
   ]
  },
  {
   "cell_type": "markdown",
   "id": "ca232c7c",
   "metadata": {},
   "source": [
    "# Loss"
   ]
  },
  {
   "cell_type": "code",
   "execution_count": 68,
   "id": "cb79064f",
   "metadata": {},
   "outputs": [
    {
     "data": {
      "text/plain": [
       "<BarContainer object of 5 artists>"
      ]
     },
     "execution_count": 68,
     "metadata": {},
     "output_type": "execute_result"
    },
    {
     "data": {
      "image/png": "[encoded data removed]",
      "text/plain": [
       "<Figure size 432x288 with 1 Axes>"
      ]
     },
     "metadata": {
      "needs_background": "light"
     },
     "output_type": "display_data"
    }
   ],
   "source": [
    "fig2 = plt.figure(2)\n",
    "ax2 = fig2.add_axes([0,0,1,1])\n",
    "model = ['M1', 'M2', 'M3', 'M4', 'M5']\n",
    "loss = [loss1, loss2, loss3, loss4, loss5]\n",
    "ax2.bar(model,loss)"
   ]
  },
  {
   "cell_type": "markdown",
   "id": "e6be8723",
   "metadata": {},
   "source": [
    "# F1 score"
   ]
  },
  {
   "cell_type": "code",
   "execution_count": 69,
   "id": "d3e48990",
   "metadata": {},
   "outputs": [
    {
     "data": {
      "text/plain": [
       "<BarContainer object of 5 artists>"
      ]
     },
     "execution_count": 69,
     "metadata": {},
     "output_type": "execute_result"
    },
    {
     "data": {
      "image/png": "[encoded data removed]",
      "text/plain": [
       "<Figure size 432x288 with 1 Axes>"
      ]
     },
     "metadata": {
      "needs_background": "light"
     },
     "output_type": "display_data"
    }
   ],
   "source": [
    "fig2 = plt.figure(2)\n",
    "ax2 = fig2.add_axes([0,0,1,1])\n",
    "model = ['M1', 'M2', 'M3', 'M4', 'M5']\n",
    "f1_score = [f1_score1, f1_score2, f1_score3, f1_score4, f1_score5]\n",
    "ax2.bar(model,f1_score)"
   ]
  }
 ],
 "metadata": {
  "kernelspec": {
   "display_name": "Python 3",
   "language": "python",
   "name": "python3"
  },
  "language_info": {
   "codemirror_mode": {
    "name": "ipython",
    "version": 3
   },
   "file_extension": ".py",
   "mimetype": "text/x-python",
   "name": "python",
   "nbconvert_exporter": "python",
   "pygments_lexer": "ipython3",
   "version": "3.9.4"
  }
 },
 "nbformat": 4,
 "nbformat_minor": 5
}
