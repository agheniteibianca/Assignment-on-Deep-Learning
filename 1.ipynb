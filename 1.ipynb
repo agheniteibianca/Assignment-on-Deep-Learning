{
 "cells": [
  {
   "cell_type": "markdown",
   "id": "6b3cd7d1",
   "metadata": {},
   "source": [
    "# Model #1: The most basic of all"
   ]
  },
  {
   "cell_type": "code",
   "execution_count": 31,
   "id": "a336609a",
   "metadata": {},
   "outputs": [],
   "source": [
    "import pathlib\n",
    "import tensorflow as tf\n",
    "import matplotlib.pyplot as plt #pip install matplotlib\n",
    "import numpy as np # pip install numpy\n",
    "\n",
    "from tensorflow.keras.models import Sequential\n",
    "from tensorflow.keras.layers import Dense, Dropout, Activation,Flatten, Conv2D, MaxPooling2D, MaxPool2D\n",
    "\n",
    "from tensorflow.keras.preprocessing.image import ImageDataGenerator\n",
    "from keras.preprocessing import image\n",
    "from keras.models import model_from_json"
   ]
  },
  {
   "cell_type": "markdown",
   "id": "0e82917a",
   "metadata": {},
   "source": [
    "# 1.Load a dataset(sort of)"
   ]
  },
  {
   "cell_type": "code",
   "execution_count": 32,
   "id": "12479e7a",
   "metadata": {},
   "outputs": [
    {
     "name": "stdout",
     "output_type": "stream",
     "text": [
      "Classes: ['1', '10', '11', '12', '2', '3', '4', '5', '6', '7', '8', '9']\n",
      "Found 523 images belonging to 12 classes.\n",
      "Found 96 images belonging to 12 classes.\n",
      "Found 88 images belonging to 12 classes.\n"
     ]
    }
   ],
   "source": [
    "train_dir = pathlib.Path(r\"C:\\Users\\aghen\\OneDrive\\Desktop/flavia_for_cnn/train\")\n",
    "test_dir = pathlib.Path(r\"C:\\Users\\aghen\\OneDrive\\Desktop//flavia_for_cnn/test\")\n",
    "val_dir = pathlib.Path(r\"C:\\Users\\aghen\\OneDrive\\Desktop/flavia_for_cnn/val\")\n",
    "\n",
    "\n",
    "class_names = list([item.name for item in train_dir.glob('*')])\n",
    "print(\"Classes:\", class_names)\n",
    "\n",
    "\n",
    "image_generator = ImageDataGenerator(rescale=1./255)\n",
    "\n",
    "train_generator = image_generator.flow_from_directory(train_dir,\n",
    "                                                      target_size = (150,150),\n",
    "                                                      batch_size=8,\n",
    "                                                      class_mode='categorical',\n",
    "                                                      shuffle = False)\n",
    "\n",
    "test_generator = image_generator.flow_from_directory(test_dir,\n",
    "                                                     target_size=(150,150),\n",
    "                                                     batch_size=8,\n",
    "                                                     class_mode='categorical',\n",
    "                                                     shuffle = False)\n",
    "val_generator = image_generator.flow_from_directory(val_dir,\n",
    "                                                     target_size=(150,150),\n",
    "                                                     batch_size=8,\n",
    "                                                     class_mode='categorical',\n",
    "                                                     shuffle = False)"
   ]
  },
  {
   "cell_type": "markdown",
   "id": "9dad4010",
   "metadata": {},
   "source": [
    "# 2.Preprocess dataset"
   ]
  },
  {
   "cell_type": "code",
   "execution_count": 33,
   "id": "711b4324",
   "metadata": {},
   "outputs": [],
   "source": [
    "#done already"
   ]
  },
  {
   "cell_type": "markdown",
   "id": "45a88ed4",
   "metadata": {},
   "source": [
    "# 3.Build model"
   ]
  },
  {
   "cell_type": "code",
   "execution_count": 34,
   "id": "b44df2dc",
   "metadata": {},
   "outputs": [
    {
     "name": "stdout",
     "output_type": "stream",
     "text": [
      "Model: \"sequential_3\"\n",
      "_________________________________________________________________\n",
      "Layer (type)                 Output Shape              Param #   \n",
      "=================================================================\n",
      "flatten_3 (Flatten)          (None, 67500)             0         \n",
      "_________________________________________________________________\n",
      "dense_3 (Dense)              (None, 12)                810012    \n",
      "_________________________________________________________________\n",
      "activation_3 (Activation)    (None, 12)                0         \n",
      "=================================================================\n",
      "Total params: 810,012\n",
      "Trainable params: 810,012\n",
      "Non-trainable params: 0\n",
      "_________________________________________________________________\n"
     ]
    }
   ],
   "source": [
    "model = Sequential()\n",
    "\n",
    "\n",
    "model.add(Flatten(input_shape=(150, 150, 3)))\n",
    "\n",
    "\n",
    "model.add(Dense(12))\n",
    "model.add(Activation('softmax'))\n",
    "\n",
    "\n",
    "model.summary()"
   ]
  },
  {
   "cell_type": "markdown",
   "id": "74a3dc3d",
   "metadata": {},
   "source": [
    "# 4.Plot the model as a graph"
   ]
  },
  {
   "cell_type": "code",
   "execution_count": 35,
   "id": "8f31e9d1",
   "metadata": {},
   "outputs": [
    {
     "data": {
      "image/png": "[encoded data removed]",
      "text/plain": [
       "<IPython.core.display.Image object>"
      ]
     },
     "execution_count": 35,
     "metadata": {},
     "output_type": "execute_result"
    }
   ],
   "source": [
    "tf.keras.utils.plot_model(model, to_file='model1.png', show_shapes=True)\n",
    "#pip install pydot"
   ]
  },
  {
   "cell_type": "markdown",
   "id": "d6500c42",
   "metadata": {},
   "source": [
    "# 5.Compile the model"
   ]
  },
  {
   "cell_type": "code",
   "execution_count": 36,
   "id": "f0dd3a3c",
   "metadata": {},
   "outputs": [],
   "source": [
    "model.compile(optimizer='adam', loss='categorical_crossentropy', metrics=['accuracy'])"
   ]
  },
  {
   "cell_type": "markdown",
   "id": "44f4a704",
   "metadata": {},
   "source": [
    "# 6.Fit your model\n"
   ]
  },
  {
   "cell_type": "code",
   "execution_count": 37,
   "id": "9c07c030",
   "metadata": {},
   "outputs": [
    {
     "name": "stdout",
     "output_type": "stream",
     "text": [
      "Epoch 1/10\n",
      "66/66 [==============================] - 7s 100ms/step - loss: 83.6609 - accuracy: 0.1511 - val_loss: 60.0140 - val_accuracy: 0.1364\n",
      "Epoch 2/10\n",
      "66/66 [==============================] - 7s 100ms/step - loss: 48.2444 - accuracy: 0.2314 - val_loss: 27.5702 - val_accuracy: 0.3977\n",
      "Epoch 3/10\n",
      "66/66 [==============================] - 6s 98ms/step - loss: 36.6841 - accuracy: 0.3461 - val_loss: 52.1893 - val_accuracy: 0.3864\n",
      "Epoch 4/10\n",
      "66/66 [==============================] - 6s 99ms/step - loss: 46.6734 - accuracy: 0.4245 - val_loss: 40.1496 - val_accuracy: 0.3977\n",
      "Epoch 5/10\n",
      "66/66 [==============================] - 7s 99ms/step - loss: 27.1319 - accuracy: 0.4857 - val_loss: 27.2127 - val_accuracy: 0.5114\n",
      "Epoch 6/10\n",
      "66/66 [==============================] - 6s 98ms/step - loss: 39.2246 - accuracy: 0.4665 - val_loss: 43.5248 - val_accuracy: 0.4432\n",
      "Epoch 7/10\n",
      "66/66 [==============================] - 6s 98ms/step - loss: 30.5147 - accuracy: 0.5488 - val_loss: 35.6905 - val_accuracy: 0.3182 31.7943 - accurac\n",
      "Epoch 8/10\n",
      "66/66 [==============================] - 6s 96ms/step - loss: 15.0852 - accuracy: 0.6654 - val_loss: 28.5309 - val_accuracy: 0.6705\n",
      "Epoch 9/10\n",
      "66/66 [==============================] - 6s 96ms/step - loss: 29.0935 - accuracy: 0.5966 - val_loss: 30.9755 - val_accuracy: 0.5568\n",
      "Epoch 10/10\n",
      "66/66 [==============================] - 6s 97ms/step - loss: 27.7779 - accuracy: 0.6348 - val_loss: 27.0212 - val_accuracy: 0.5455\n"
     ]
    }
   ],
   "source": [
    "trained = model.fit(train_generator,\n",
    "                    epochs = 10,\n",
    "                    verbose = 1,\n",
    "                    validation_data=val_generator\n",
    "                    );\n"
   ]
  },
  {
   "cell_type": "markdown",
   "id": "2b2f2f81",
   "metadata": {},
   "source": [
    "# Save the model"
   ]
  },
  {
   "cell_type": "code",
   "execution_count": 38,
   "id": "8681a884",
   "metadata": {},
   "outputs": [],
   "source": [
    "# serialize model to JSON\n",
    "model_json = model.to_json()\n",
    "with open(\"model1.json\", \"w\") as json_file:\n",
    "    json_file.write(model_json)\n",
    "\n",
    "model.save_weights('weights1.h5')\n",
    "\n",
    "# future usage:\n",
    "\n",
    "# json_file = open('model1.json', 'r')\n",
    "# loaded_model_json = json_file.read()\n",
    "# json_file.close()\n",
    "# loaded_model = model_from_json(loaded_model_json)\n",
    "# # load weights into new model\n",
    "# loaded_model.load_weights(\"weights1.h5\")\n",
    "# print(\"Loaded model from disk\")\n",
    "\n",
    "# # evaluate loaded model on test data\n",
    "# loaded_model.compile(optimizer='adam',\n",
    "#                   loss='categorical_crossentropy',\n",
    "#                   metrics=['accuracy'])"
   ]
  },
  {
   "cell_type": "markdown",
   "id": "f2c56395",
   "metadata": {},
   "source": [
    "# 7.Evaluate the model\n"
   ]
  },
  {
   "cell_type": "code",
   "execution_count": 16,
   "id": "a6f143fe",
   "metadata": {},
   "outputs": [
    {
     "name": "stdout",
     "output_type": "stream",
     "text": [
      "12/12 [==============================] - 1s 98ms/step - loss: 13.3707 - accuracy: 0.6146\n",
      "13.370650291442871\n",
      "0.6145833134651184\n"
     ]
    }
   ],
   "source": [
    "result = model.evaluate(test_generator)\n",
    "\n",
    "print(result)\n"
   ]
  },
  {
   "cell_type": "markdown",
   "id": "52f03d9c",
   "metadata": {},
   "source": [
    "# 8.Make predictions"
   ]
  },
  {
   "cell_type": "code",
   "execution_count": 17,
   "id": "cedf70db",
   "metadata": {},
   "outputs": [
    {
     "name": "stdout",
     "output_type": "stream",
     "text": [
      "Predicted class: 2\n"
     ]
    }
   ],
   "source": [
    "selected_img = r'C:\\Users\\aghen\\OneDrive\\Desktop/standardleaves/2.jpg'\n",
    "img1 = image.load_img(selected_img, target_size=(150, 150))\n",
    "x = image.img_to_array(img1)\n",
    "x = np.expand_dims(x, axis=0)\n",
    "prediction1 = model.predict(x, batch_size=8)\n",
    "\n",
    "target_classes = [1, 10, 11, 12, 2, 3, 4, 5, 6, 7, 8, 9]\n",
    "\n",
    "print(\"Predicted class: \" + str(target_classes[np.argmax(prediction1[0])]))"
   ]
  },
  {
   "cell_type": "markdown",
   "id": "ee6e15ca",
   "metadata": {},
   "source": [
    "# 9.Metrics"
   ]
  },
  {
   "cell_type": "code",
   "execution_count": 18,
   "id": "121a420c",
   "metadata": {},
   "outputs": [
    {
     "data": {
      "text/plain": [
       "<matplotlib.legend.Legend at 0x1fb0e2e86d0>"
      ]
     },
     "execution_count": 18,
     "metadata": {},
     "output_type": "execute_result"
    },
    {
     "data": {
      "image/png": "[encoded data removed]",
      "text/plain": [
       "<Figure size 1080x360 with 2 Axes>"
      ]
     },
     "metadata": {
      "needs_background": "light"
     },
     "output_type": "display_data"
    }
   ],
   "source": [
    "fig, sides = plt.subplots(1, 2, figsize=(15,5))\n",
    "\n",
    "sides[0].plot(trained.history['accuracy'], label='Accuracy')\n",
    "sides[0].plot(trained.history['val_accuracy'], label = 'Validation accuracy')\n",
    "sides[0].legend(loc='lower right')\n",
    "\n",
    "\n",
    "sides[1].plot(trained.epoch, trained.history[\"loss\"], label=\"Train loss\")\n",
    "sides[1].plot(trained.epoch, trained.history[\"val_loss\"], label=\"Validation loss\")\n",
    "sides[1].legend(loc='lower right')"
   ]
  }
 ],
 "metadata": {
  "kernelspec": {
   "display_name": "Python 3",
   "language": "python",
   "name": "python3"
  },
  "language_info": {
   "codemirror_mode": {
    "name": "ipython",
    "version": 3
   },
   "file_extension": ".py",
   "mimetype": "text/x-python",
   "name": "python",
   "nbconvert_exporter": "python",
   "pygments_lexer": "ipython3",
   "version": "3.9.4"
  }
 },
 "nbformat": 4,
 "nbformat_minor": 5
}
